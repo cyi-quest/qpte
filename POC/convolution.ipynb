{
 "cells": [
  {
   "metadata": {
    "ExecuteTime": {
     "end_time": "2025-03-13T10:21:49.085352Z",
     "start_time": "2025-03-13T10:21:49.026652Z"
    }
   },
   "cell_type": "code",
   "source": [
    "%load_ext autoreload\n",
    "%autoreload 2\n",
    "\n",
    "import matplotlib.pyplot as plt\n",
    "import pennylane as qml\n",
    "import numpy as np\n",
    "\n",
    "from Circuit import *\n",
    "\n",
    "plt.rcParams.update({\n",
    "    \"text.usetex\": True,\n",
    "    \"font.family\": \"sans-serif\",\n",
    "    \"font.sans-serif\": \"Helvetica\",\n",
    "})\n",
    "\n",
    "np.random.seed(42)"
   ],
   "id": "39b98048d624389a",
   "outputs": [
    {
     "name": "stdout",
     "output_type": "stream",
     "text": [
      "The autoreload extension is already loaded. To reload it, use:\n",
      "  %reload_ext autoreload\n"
     ]
    }
   ],
   "execution_count": 270
  },
  {
   "metadata": {},
   "cell_type": "markdown",
   "source": "# Encoding a single function",
   "id": "be9cabc4b925199c"
  },
  {
   "metadata": {
    "ExecuteTime": {
     "end_time": "2025-03-13T10:21:50.253211Z",
     "start_time": "2025-03-13T10:21:49.161723Z"
    }
   },
   "cell_type": "code",
   "source": [
    "n = 8\n",
    "qs = np.arange(n)\n",
    "t = len(qs)\n",
    "f = np.random.rand(2**n)\n",
    "f /= np.linalg.norm(f)\n",
    "\n",
    "def encode_f():\n",
    "    for q in qs:\n",
    "        qml.Hadamard(q)\n",
    "    for x, y in enumerate(f):\n",
    "        control_values = map(int, format(x, f\"0{n}b\"))\n",
    "        theta = np.arccos(y)\n",
    "        qml.ControlledQubitUnitary(\n",
    "            [[np.cos(theta), -np.sin(theta)], [np.sin(theta), np.cos(theta)]],\n",
    "            control_values=control_values,\n",
    "            control_wires=qs,\n",
    "            wires=[t]\n",
    "        )\n",
    "\n",
    "circuit = Circuit(n + 1)\n",
    "\n",
    "print(\"Encoding f\")\n",
    "circuit.apply(encode_f)\n",
    "\n",
    "print(\"Collapsing t to |0>\")\n",
    "circuit.measure(t, 0)\n",
    "\n",
    "print(\"Calculating diff == 0: \", end='')\n",
    "diff = np.linalg.norm(circuit.state[0::2] - f)\n",
    "print(np.isclose(0, diff))"
   ],
   "id": "1d39ef2a3ddfc9b9",
   "outputs": [
    {
     "name": "stdout",
     "output_type": "stream",
     "text": [
      "Encoding f\n",
      "Collapsing t to |0>\n",
      "Calculating diff == 0: True\n"
     ]
    }
   ],
   "execution_count": 271
  },
  {
   "metadata": {},
   "cell_type": "markdown",
   "source": "# Pointwise multiplication",
   "id": "782b7aef8231ba34"
  },
  {
   "metadata": {
    "ExecuteTime": {
     "end_time": "2025-03-13T10:21:54.142792Z",
     "start_time": "2025-03-13T10:21:50.322515Z"
    }
   },
   "cell_type": "code",
   "source": [
    "ts = len(qs) + np.arange(2)\n",
    "\n",
    "fs = [\n",
    "    np.random.rand(2**n),\n",
    "    np.random.rand(2**n)\n",
    "]\n",
    "fs /= np.linalg.norm(fs, axis=1).reshape(2, 1)\n",
    "\n",
    "def encode_fs():\n",
    "    for q in qs:\n",
    "        qml.Hadamard(q)\n",
    "    for target, function in zip(ts, fs):\n",
    "        for x, y in enumerate(function):\n",
    "            control_values = map(int, format(x, f\"0{n}b\"))\n",
    "            theta = np.arccos(y)\n",
    "            qml.ControlledQubitUnitary(\n",
    "                [[np.cos(theta), -np.sin(theta)], [np.sin(theta), np.cos(theta)]],\n",
    "                control_values=control_values,\n",
    "                control_wires=qs,\n",
    "                wires=[target]\n",
    "            )\n",
    "\n",
    "circuit = Circuit(len(qs) + len(ts))\n",
    "\n",
    "print(\"Encoding fs\")\n",
    "circuit.apply(encode_fs)\n",
    "\n",
    "print(\"Collapsing ts to |00>\")\n",
    "for t in ts:\n",
    "    circuit.measure(t, 0)\n",
    "\n",
    "print(\"Calculating diff == 0: \", end='')\n",
    "product = np.prod(fs, axis=0)\n",
    "product /= np.linalg.norm(product)\n",
    "diff = np.linalg.norm(product - circuit.state[0::4])\n",
    "print(np.isclose(0, diff))"
   ],
   "id": "a7917f3c3ce3030f",
   "outputs": [
    {
     "name": "stdout",
     "output_type": "stream",
     "text": [
      "Encoding fs\n",
      "Collapsing ts to |00>\n",
      "Calculating diff == 0: True\n"
     ]
    }
   ],
   "execution_count": 272
  },
  {
   "metadata": {},
   "cell_type": "markdown",
   "source": "# With Complex Numbers",
   "id": "18c09fa07b0be3f5"
  },
  {
   "metadata": {
    "ExecuteTime": {
     "end_time": "2025-03-13T10:22:00.443259Z",
     "start_time": "2025-03-13T10:21:54.248020Z"
    }
   },
   "cell_type": "code",
   "source": [
    "ts = len(qs) + np.arange(2)\n",
    "\n",
    "fs = [\n",
    "    np.random.rand(2**n) + 1j*np.random.rand(2**n),\n",
    "    np.random.rand(2**n) + 1j*np.random.rand(2**n)\n",
    "]\n",
    "fs /= np.linalg.norm(fs, axis=1).reshape(2, 1)\n",
    "\n",
    "def encode_complex_fs():\n",
    "    for q in qs:\n",
    "        qml.Hadamard(q)\n",
    "    for target, function in zip(ts, fs):\n",
    "        for x, y in enumerate(function):\n",
    "            control_values = list(map(int, format(x, f\"0{n}b\")))\n",
    "            r = np.arccos(np.absolute(y))\n",
    "            phi = np.angle(y)\n",
    "            # encode r\n",
    "            qml.ControlledQubitUnitary(\n",
    "                [[np.cos(r), -np.sin(r)], [np.sin(r), np.cos(r)]],\n",
    "                control_values=control_values,\n",
    "                control_wires=qs,\n",
    "                wires=[target]\n",
    "            )\n",
    "            # encode phi\n",
    "            qml.ControlledQubitUnitary(\n",
    "                [[np.exp(1j * phi), 0], [0, 1]],#np.exp(1j * phi)]],\n",
    "                control_values=control_values,\n",
    "                control_wires=qs,\n",
    "                wires=[target]\n",
    "            )\n",
    "\n",
    "circuit = Circuit(len(qs) + len(ts))\n",
    "\n",
    "print(\"Encoding fs\")\n",
    "circuit.apply(encode_complex_fs)\n",
    "\n",
    "print(\"Collapsing ts to |00>\")\n",
    "for t in ts:\n",
    "    circuit.measure(t, 0)\n",
    "\n",
    "print(\"Calculating diff == 0: \", end='')\n",
    "product = np.prod(fs, axis=0)\n",
    "product /= np.linalg.norm(product)\n",
    "diff = np.linalg.norm(product - circuit.state[0::4])\n",
    "print(np.isclose(0, diff))"
   ],
   "id": "3d47bb8154858080",
   "outputs": [
    {
     "name": "stdout",
     "output_type": "stream",
     "text": [
      "Encoding fs\n",
      "Collapsing ts to |00>\n",
      "Calculating diff == 0: True\n"
     ]
    }
   ],
   "execution_count": 273
  },
  {
   "metadata": {},
   "cell_type": "markdown",
   "source": "# Convolution Theorem",
   "id": "46e0b2d269cfe4a5"
  },
  {
   "metadata": {
    "ExecuteTime": {
     "end_time": "2025-03-13T10:22:00.567155Z",
     "start_time": "2025-03-13T10:22:00.525133Z"
    }
   },
   "cell_type": "code",
   "source": [
    "fs = np.array([\n",
    "    np.random.rand(2**(n-1)),\n",
    "    np.random.rand(2**(n-1))\n",
    "])\n",
    "\n",
    "expected = np.pad(np.convolve(*fs), (0, 1), 'constant')\n",
    "expected /= np.linalg.norm(expected)\n",
    "padded = np.pad(fs, np.array([(0,0), (0, 2**(n-1))]), 'constant')\n",
    "ffts = np.fft.fft(padded, axis=1)\n",
    "product = np.prod(ffts, axis=0)\n",
    "product /= np.linalg.norm(product)\n",
    "convolution = np.fft.ifft(product)\n",
    "convolution /= np.linalg.norm(convolution)\n",
    "\n",
    "print(\"iFFT( FFT(f0) x FFT(f1) ) == f0 * f1: \", end='')\n",
    "print(np.isclose(0, np.linalg.norm(expected - convolution)))"
   ],
   "id": "afe10627b1c8bee6",
   "outputs": [
    {
     "name": "stdout",
     "output_type": "stream",
     "text": [
      "iFFT( FFT(f0) x FFT(f1) ) == f0 * f1: True\n"
     ]
    }
   ],
   "execution_count": 274
  },
  {
   "metadata": {},
   "cell_type": "markdown",
   "source": "# Using a Quantum Circuit",
   "id": "8df731321e11da53"
  },
  {
   "metadata": {
    "ExecuteTime": {
     "end_time": "2025-03-13T10:22:07.928546Z",
     "start_time": "2025-03-13T10:22:00.596772Z"
    }
   },
   "cell_type": "code",
   "source": [
    "t = len(qs) + len(ts)\n",
    "ffts /= np.linalg.norm(ffts, axis=1).reshape(2, 1)\n",
    "\n",
    "def encode_ffts():\n",
    "    for q in qs:\n",
    "        qml.Hadamard(q)\n",
    "    for target, function in zip(ts, ffts):\n",
    "        for x, y in enumerate(function):\n",
    "            control_values = list(map(int, format(x, f\"0{n}b\")))\n",
    "            r = np.arccos(np.absolute(y))\n",
    "            phi = np.angle(y)\n",
    "            # encode r\n",
    "            qml.ControlledQubitUnitary(\n",
    "                [[np.cos(r), -np.sin(r)], [np.sin(r), np.cos(r)]],\n",
    "                control_values=control_values,\n",
    "                control_wires=qs,\n",
    "                wires=[target]\n",
    "            )\n",
    "            # encode phi\n",
    "            qml.ControlledQubitUnitary(\n",
    "                [[np.exp(1j * phi), 0], [0, 1]],\n",
    "                control_values=control_values,\n",
    "                control_wires=qs,\n",
    "                wires=[target]\n",
    "            )\n",
    "circuit = Circuit(len(qs) + len(ts))\n",
    "\n",
    "print(\"Encoding ffts\")\n",
    "circuit.apply(encode_ffts)\n",
    "\n",
    "print(\"Collapsing ts to |00>\")\n",
    "for t in ts:\n",
    "    circuit.measure(t, 0)\n",
    "\n",
    "print(\"Calculating product diff == 0: \", end='')\n",
    "product = np.prod(ffts, axis=0)\n",
    "product /= np.linalg.norm(product)\n",
    "diff = np.linalg.norm(product - circuit.state[0::4])\n",
    "print(np.isclose(0, diff))\n",
    "\n",
    "print(\"Applying QFT\")\n",
    "circuit.apply(qml.QFT, wires=qs)\n",
    "\n",
    "print(\"Calculating convolution diff == 0: \", end='')\n",
    "convolution /= np.linalg.norm(convolution)\n",
    "diff = np.linalg.norm(convolution - circuit.state[0::4])\n",
    "print(np.isclose(0, diff))"
   ],
   "id": "f2a3499f3cc9a65d",
   "outputs": [
    {
     "name": "stdout",
     "output_type": "stream",
     "text": [
      "Encoding ffts\n",
      "Collapsing ts to |00>\n",
      "Calculating product diff == 0: True\n",
      "Applying QFT\n",
      "Calculating convolution diff == 0: True\n"
     ]
    }
   ],
   "execution_count": 275
  },
  {
   "metadata": {},
   "cell_type": "markdown",
   "source": [
    "# Notes\n",
    "We are using $n+1$ qubits to encode the convolve two $N$ sized functions"
   ],
   "id": "e1cbf69cec8ef155"
  },
  {
   "metadata": {},
   "cell_type": "markdown",
   "source": "# FFT of second derivative kernel",
   "id": "d6b939592cc072eb"
  },
  {
   "metadata": {
    "ExecuteTime": {
     "end_time": "2025-03-14T15:46:08.493320Z",
     "start_time": "2025-03-14T15:46:08.427777Z"
    }
   },
   "cell_type": "code",
   "source": [
    "f = [1,-2,1,0,0,0,0,0,0,0,0,0,0,0,0,0,0,0,0,0,0,0,0,0,0]\n",
    "# plt.plot(np.real(np.fft.fft(f)))\n",
    "# plt.plot(np.imag(np.fft.fft(f)))\n",
    "plt.plot(np.abs(np.fft.fft(f)))\n",
    "plt.plot(np.angle(np.fft.fft(f)))\n",
    "plt.plot(range(len(f)), 4*np.sin((np.linspace(0,18,len(f)))/6)**2)\n",
    "\n",
    "plt.show()"
   ],
   "id": "47e84220b7971631",
   "outputs": [
    {
     "data": {
      "text/plain": [
       "<Figure size 640x480 with 1 Axes>"
      ],
      "image/png": "[encoded data removed]"
     },
     "metadata": {},
     "output_type": "display_data"
    }
   ],
   "execution_count": 340
  },
  {
   "metadata": {},
   "cell_type": "code",
   "outputs": [],
   "execution_count": null,
   "source": "",
   "id": "641772cf3dd66944"
  }
 ],
 "metadata": {
  "kernelspec": {
   "name": "python3",
   "language": "python",
   "display_name": "Python 3 (ipykernel)"
  }
 },
 "nbformat": 5,
 "nbformat_minor": 9
}
